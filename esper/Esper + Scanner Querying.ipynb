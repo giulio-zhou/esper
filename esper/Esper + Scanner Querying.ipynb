{
 "cells": [
  {
   "cell_type": "code",
   "execution_count": 1,
   "metadata": {},
   "outputs": [],
   "source": [
    "import matplotlib.pyplot as plt\n",
    "import numpy as np\n",
    "import os\n",
    "import skimage.io as skio\n",
    "from query.models import Frame\n",
    "from scannerpy import Database, DeviceType, Job, BulkJob, ColumnType\n",
    "%matplotlib inline"
   ]
  },
  {
   "cell_type": "code",
   "execution_count": 8,
   "metadata": {},
   "outputs": [
    {
     "name": "stdout",
     "output_type": "stream",
     "text": [
      "mkdir: cannot create directory 'videos': File exists\r\n"
     ]
    }
   ],
   "source": [
    "mkdir videos"
   ]
  },
  {
   "cell_type": "code",
   "execution_count": 2,
   "metadata": {},
   "outputs": [
    {
     "name": "stdout",
     "output_type": "stream",
     "text": [
      "^C\r\n"
     ]
    }
   ],
   "source": [
    "cp gcs/videos/jackson-town-square.mp4 videos"
   ]
  },
  {
   "cell_type": "code",
   "execution_count": 2,
   "metadata": {},
   "outputs": [],
   "source": [
    "from IPython.display import HTML\n",
    "\n",
    "def view_video(relative_path, width=320, height=240):\n",
    "    return HTML(data='''\n",
    "    <video width=\"%d\" height=\"%d\" controls>\n",
    "        <source src=\"./%s\" type=\"video/mp4\">\n",
    "    </video>''' % (width, height, relative_path))"
   ]
  },
  {
   "cell_type": "code",
   "execution_count": 3,
   "metadata": {},
   "outputs": [],
   "source": [
    "def gather_frames(frame_ids, video_path, load_video_from_scratch=True):\n",
    "    with Database() as db:\n",
    "        if not db.has_table('target_video') or load_video_from_scratch:\n",
    "            db.ingest_videos([('target_video', video_path)], force=True)\n",
    "        frame = db.ops.FrameInput()\n",
    "        sampled_frames = frame.sample()\n",
    "        output_op = db.ops.Output(columns=[sampled_frames])\n",
    "        job = Job(\n",
    "            op_args={\n",
    "                frame: db.table('target_video').column('frame'),\n",
    "                sampled_frames: db.sampler.gather([i for i in frame_ids]),\n",
    "                output_op: 'matching_frames'\n",
    "            }\n",
    "        )\n",
    "        bulk_job = BulkJob(output_op, [job])\n",
    "        [output] = db.run(bulk_job, force=True)\n",
    "        frames = [f[1][:, :, ::-1] for f in output.column('frame').load()]\n",
    "        return frames\n",
    "\n",
    "def gather_frames_into_video(frame_ids, video_path, output_path, load_video_from_scratch=True):\n",
    "    with Database() as db:\n",
    "        if not db.has_table('target_video') or load_video_from_scratch:\n",
    "            db.ingest_videos([('target_video', video_path)], force=True)\n",
    "        frame = db.ops.FrameInput()\n",
    "        sampled_frames = frame.sample()\n",
    "        output_op = db.ops.Output(columns=[sampled_frames])\n",
    "        job = Job(\n",
    "            op_args={\n",
    "                frame: db.table('target_video').column('frame'),\n",
    "                sampled_frames: db.sampler.gather([i for i in frame_ids]),\n",
    "                output_op: 'matching_frames'\n",
    "            }\n",
    "        )\n",
    "        bulk_job = BulkJob(output_op, [job])\n",
    "        [output] = db.run(bulk_job, force=True)\n",
    "        output_path = os.path.splitext(output_path)[0]\n",
    "        output.column('frame').save_mp4(output_path)"
   ]
  },
  {
   "cell_type": "code",
   "execution_count": 4,
   "metadata": {
    "scrolled": true
   },
   "outputs": [
    {
     "ename": "KeyboardInterrupt",
     "evalue": "",
     "output_type": "error",
     "traceback": [
      "\u001b[0;31m---------------------------------------------------------------------------\u001b[0m",
      "\u001b[0;31mKeyboardInterrupt\u001b[0m                         Traceback (most recent call last)",
      "\u001b[0;32m<ipython-input-4-deec66568b28>\u001b[0m in \u001b[0;36m<module>\u001b[0;34m()\u001b[0m\n\u001b[0;32m----> 1\u001b[0;31m \u001b[0mimg\u001b[0m \u001b[0;34m=\u001b[0m \u001b[0mgather_frames\u001b[0m\u001b[0;34m(\u001b[0m\u001b[0;34m[\u001b[0m\u001b[0;36m0\u001b[0m\u001b[0;34m]\u001b[0m\u001b[0;34m,\u001b[0m \u001b[0;34m'videos/jackson-town-square.mp4'\u001b[0m\u001b[0;34m,\u001b[0m \u001b[0mload_video_from_scratch\u001b[0m\u001b[0;34m=\u001b[0m\u001b[0mFalse\u001b[0m\u001b[0;34m)\u001b[0m\u001b[0;34m\u001b[0m\u001b[0m\n\u001b[0m\u001b[1;32m      2\u001b[0m \u001b[0mskio\u001b[0m\u001b[0;34m.\u001b[0m\u001b[0mimshow\u001b[0m\u001b[0;34m(\u001b[0m\u001b[0mimg\u001b[0m\u001b[0;34m[\u001b[0m\u001b[0;36m0\u001b[0m\u001b[0;34m]\u001b[0m\u001b[0;34m)\u001b[0m\u001b[0;34m\u001b[0m\u001b[0m\n",
      "\u001b[0;32m<ipython-input-3-01d1bdb815a7>\u001b[0m in \u001b[0;36mgather_frames\u001b[0;34m(frame_ids, video_path, load_video_from_scratch)\u001b[0m\n\u001b[1;32m      1\u001b[0m \u001b[0;32mdef\u001b[0m \u001b[0mgather_frames\u001b[0m\u001b[0;34m(\u001b[0m\u001b[0mframe_ids\u001b[0m\u001b[0;34m,\u001b[0m \u001b[0mvideo_path\u001b[0m\u001b[0;34m,\u001b[0m \u001b[0mload_video_from_scratch\u001b[0m\u001b[0;34m=\u001b[0m\u001b[0mTrue\u001b[0m\u001b[0;34m)\u001b[0m\u001b[0;34m:\u001b[0m\u001b[0;34m\u001b[0m\u001b[0m\n\u001b[0;32m----> 2\u001b[0;31m     \u001b[0;32mwith\u001b[0m \u001b[0mDatabase\u001b[0m\u001b[0;34m(\u001b[0m\u001b[0;34m)\u001b[0m \u001b[0;32mas\u001b[0m \u001b[0mdb\u001b[0m\u001b[0;34m:\u001b[0m\u001b[0;34m\u001b[0m\u001b[0m\n\u001b[0m\u001b[1;32m      3\u001b[0m         \u001b[0;32mif\u001b[0m \u001b[0;32mnot\u001b[0m \u001b[0mdb\u001b[0m\u001b[0;34m.\u001b[0m\u001b[0mhas_table\u001b[0m\u001b[0;34m(\u001b[0m\u001b[0;34m'target_video'\u001b[0m\u001b[0;34m)\u001b[0m \u001b[0;32mor\u001b[0m \u001b[0mload_video_from_scratch\u001b[0m\u001b[0;34m:\u001b[0m\u001b[0;34m\u001b[0m\u001b[0m\n\u001b[1;32m      4\u001b[0m             \u001b[0mdb\u001b[0m\u001b[0;34m.\u001b[0m\u001b[0mingest_videos\u001b[0m\u001b[0;34m(\u001b[0m\u001b[0;34m[\u001b[0m\u001b[0;34m(\u001b[0m\u001b[0;34m'target_video'\u001b[0m\u001b[0;34m,\u001b[0m \u001b[0mvideo_path\u001b[0m\u001b[0;34m)\u001b[0m\u001b[0;34m]\u001b[0m\u001b[0;34m,\u001b[0m \u001b[0mforce\u001b[0m\u001b[0;34m=\u001b[0m\u001b[0mTrue\u001b[0m\u001b[0;34m)\u001b[0m\u001b[0;34m\u001b[0m\u001b[0m\n\u001b[1;32m      5\u001b[0m         \u001b[0mframe\u001b[0m \u001b[0;34m=\u001b[0m \u001b[0mdb\u001b[0m\u001b[0;34m.\u001b[0m\u001b[0mops\u001b[0m\u001b[0;34m.\u001b[0m\u001b[0mFrameInput\u001b[0m\u001b[0;34m(\u001b[0m\u001b[0;34m)\u001b[0m\u001b[0;34m\u001b[0m\u001b[0m\n",
      "\u001b[0;32m/opt/scanner/python/scannerpy/database.pyc\u001b[0m in \u001b[0;36m__init__\u001b[0;34m(self, master, workers, config_path, config, debug, start_cluster)\u001b[0m\n\u001b[1;32m    165\u001b[0m \u001b[0;34m\u001b[0m\u001b[0m\n\u001b[1;32m    166\u001b[0m         \u001b[0mself\u001b[0m\u001b[0;34m.\u001b[0m\u001b[0m_workers\u001b[0m \u001b[0;34m=\u001b[0m \u001b[0;34m{\u001b[0m\u001b[0;34m}\u001b[0m\u001b[0;34m\u001b[0m\u001b[0m\n\u001b[0;32m--> 167\u001b[0;31m         \u001b[0mself\u001b[0m\u001b[0;34m.\u001b[0m\u001b[0mstart_cluster\u001b[0m\u001b[0;34m(\u001b[0m\u001b[0mmaster\u001b[0m\u001b[0;34m,\u001b[0m \u001b[0mworkers\u001b[0m\u001b[0;34m)\u001b[0m\u001b[0;34m;\u001b[0m\u001b[0;34m\u001b[0m\u001b[0m\n\u001b[0m\u001b[1;32m    168\u001b[0m \u001b[0;34m\u001b[0m\u001b[0m\n\u001b[1;32m    169\u001b[0m         \u001b[0;31m# Initialize database if it does not exist\u001b[0m\u001b[0;34m\u001b[0m\u001b[0;34m\u001b[0m\u001b[0m\n",
      "\u001b[0;32m/opt/scanner/python/scannerpy/database.pyc\u001b[0m in \u001b[0;36mstart_cluster\u001b[0;34m(self, master, workers)\u001b[0m\n\u001b[1;32m    376\u001b[0m                     self._db, self.config.master_port, True).success\n\u001b[1;32m    377\u001b[0m                 \u001b[0;32massert\u001b[0m \u001b[0mres\u001b[0m\u001b[0;34m\u001b[0m\u001b[0m\n\u001b[0;32m--> 378\u001b[0;31m                 \u001b[0mres\u001b[0m \u001b[0;34m=\u001b[0m \u001b[0mself\u001b[0m\u001b[0;34m.\u001b[0m\u001b[0m_connect_to_master\u001b[0m\u001b[0;34m(\u001b[0m\u001b[0;34m)\u001b[0m\u001b[0;34m\u001b[0m\u001b[0m\n\u001b[0m\u001b[1;32m    379\u001b[0m                 \u001b[0;32massert\u001b[0m \u001b[0mres\u001b[0m\u001b[0;34m\u001b[0m\u001b[0m\n\u001b[1;32m    380\u001b[0m \u001b[0;34m\u001b[0m\u001b[0m\n",
      "\u001b[0;32m/opt/scanner/python/scannerpy/database.pyc\u001b[0m in \u001b[0;36m_connect_to_master\u001b[0;34m(self)\u001b[0m\n\u001b[1;32m    293\u001b[0m         \u001b[0mresult\u001b[0m \u001b[0;34m=\u001b[0m \u001b[0mFalse\u001b[0m\u001b[0;34m\u001b[0m\u001b[0m\n\u001b[1;32m    294\u001b[0m         \u001b[0;32mtry\u001b[0m\u001b[0;34m:\u001b[0m\u001b[0;34m\u001b[0m\u001b[0m\n\u001b[0;32m--> 295\u001b[0;31m             \u001b[0mself\u001b[0m\u001b[0;34m.\u001b[0m\u001b[0m_master\u001b[0m\u001b[0;34m.\u001b[0m\u001b[0mPing\u001b[0m\u001b[0;34m(\u001b[0m\u001b[0mself\u001b[0m\u001b[0;34m.\u001b[0m\u001b[0mprotobufs\u001b[0m\u001b[0;34m.\u001b[0m\u001b[0mEmpty\u001b[0m\u001b[0;34m(\u001b[0m\u001b[0;34m)\u001b[0m\u001b[0;34m)\u001b[0m\u001b[0;34m\u001b[0m\u001b[0m\n\u001b[0m\u001b[1;32m    296\u001b[0m             \u001b[0mresult\u001b[0m \u001b[0;34m=\u001b[0m \u001b[0mTrue\u001b[0m\u001b[0;34m\u001b[0m\u001b[0m\n\u001b[1;32m    297\u001b[0m         \u001b[0;32mexcept\u001b[0m \u001b[0mgrpc\u001b[0m\u001b[0;34m.\u001b[0m\u001b[0mRpcError\u001b[0m \u001b[0;32mas\u001b[0m \u001b[0me\u001b[0m\u001b[0;34m:\u001b[0m\u001b[0;34m\u001b[0m\u001b[0m\n",
      "\u001b[0;32m/usr/local/lib/python2.7/dist-packages/grpc/_channel.pyc\u001b[0m in \u001b[0;36m__call__\u001b[0;34m(self, request, timeout, metadata, credentials)\u001b[0m\n\u001b[1;32m    504\u001b[0m     \u001b[0;32mdef\u001b[0m \u001b[0m__call__\u001b[0m\u001b[0;34m(\u001b[0m\u001b[0mself\u001b[0m\u001b[0;34m,\u001b[0m \u001b[0mrequest\u001b[0m\u001b[0;34m,\u001b[0m \u001b[0mtimeout\u001b[0m\u001b[0;34m=\u001b[0m\u001b[0mNone\u001b[0m\u001b[0;34m,\u001b[0m \u001b[0mmetadata\u001b[0m\u001b[0;34m=\u001b[0m\u001b[0mNone\u001b[0m\u001b[0;34m,\u001b[0m \u001b[0mcredentials\u001b[0m\u001b[0;34m=\u001b[0m\u001b[0mNone\u001b[0m\u001b[0;34m)\u001b[0m\u001b[0;34m:\u001b[0m\u001b[0;34m\u001b[0m\u001b[0m\n\u001b[1;32m    505\u001b[0m         state, deadline, = self._blocking(request, timeout, metadata,\n\u001b[0;32m--> 506\u001b[0;31m                                           credentials)\n\u001b[0m\u001b[1;32m    507\u001b[0m         \u001b[0;32mreturn\u001b[0m \u001b[0m_end_unary_response_blocking\u001b[0m\u001b[0;34m(\u001b[0m\u001b[0mstate\u001b[0m\u001b[0;34m,\u001b[0m \u001b[0mFalse\u001b[0m\u001b[0;34m,\u001b[0m \u001b[0mdeadline\u001b[0m\u001b[0;34m)\u001b[0m\u001b[0;34m\u001b[0m\u001b[0m\n\u001b[1;32m    508\u001b[0m \u001b[0;34m\u001b[0m\u001b[0m\n",
      "\u001b[0;32m/usr/local/lib/python2.7/dist-packages/grpc/_channel.pyc\u001b[0m in \u001b[0;36m_blocking\u001b[0;34m(self, request, timeout, metadata, credentials)\u001b[0m\n\u001b[1;32m    498\u001b[0m                 cygrpc.Operations(operations), None)\n\u001b[1;32m    499\u001b[0m             \u001b[0m_check_call_error\u001b[0m\u001b[0;34m(\u001b[0m\u001b[0mcall_error\u001b[0m\u001b[0;34m,\u001b[0m \u001b[0mmetadata\u001b[0m\u001b[0;34m)\u001b[0m\u001b[0;34m\u001b[0m\u001b[0m\n\u001b[0;32m--> 500\u001b[0;31m             _handle_event(completion_queue.poll(), state,\n\u001b[0m\u001b[1;32m    501\u001b[0m                           self._response_deserializer)\n\u001b[1;32m    502\u001b[0m             \u001b[0;32mreturn\u001b[0m \u001b[0mstate\u001b[0m\u001b[0;34m,\u001b[0m \u001b[0mdeadline\u001b[0m\u001b[0;34m\u001b[0m\u001b[0m\n",
      "\u001b[0;32msrc/python/grpcio/grpc/_cython/_cygrpc/completion_queue.pyx.pxi\u001b[0m in \u001b[0;36mgrpc._cython.cygrpc.CompletionQueue.poll (src/python/grpcio/grpc/_cython/cygrpc.c:10266)\u001b[0;34m()\u001b[0m\n",
      "\u001b[0;31mKeyboardInterrupt\u001b[0m: "
     ]
    }
   ],
   "source": [
    "img = gather_frames([0], 'videos/jackson-town-square.mp4', load_video_from_scratch=False)\n",
    "skio.imshow(img[0])"
   ]
  },
  {
   "cell_type": "code",
   "execution_count": 4,
   "metadata": {},
   "outputs": [],
   "source": [
    "present_labeled_frame_ids = \\\n",
    "    Frame.objects.filter(video__path='videos/jackson-town-square.mp4',\n",
    "                         label__source__name='Viscloud Labeler',\n",
    "                         label__category__name='person',\n",
    "                         label__presence__name='PRESENT').order_by('number').values_list('number', flat=True)\n",
    "present_labeled_frame_ids = list(present_labeled_frame_ids)"
   ]
  },
  {
   "cell_type": "code",
   "execution_count": 46,
   "metadata": {},
   "outputs": [],
   "source": [
    "mkdir scanner_videos"
   ]
  },
  {
   "cell_type": "code",
   "execution_count": 5,
   "metadata": {},
   "outputs": [],
   "source": [
    "output_path = 'scanner_videos/jackson-hand-labels-present.mp4'\n",
    "gather_frames_into_video(present_labeled_frame_ids, 'videos/jackson-town-square.mp4',\n",
    "                         output_path, load_video_from_scratch=False)"
   ]
  },
  {
   "cell_type": "code",
   "execution_count": 7,
   "metadata": {},
   "outputs": [
    {
     "data": {
      "text/html": [
       "\n",
       "    <video width=\"320\" height=\"240\" controls>\n",
       "        <source src=\"./scanner_videos/jackson-hand-labels-present.mp4\" type=\"video/mp4\">\n",
       "    </video>"
      ],
      "text/plain": [
       "<IPython.core.display.HTML object>"
      ]
     },
     "execution_count": 7,
     "metadata": {},
     "output_type": "execute_result"
    }
   ],
   "source": [
    "view_video(output_path)"
   ]
  },
  {
   "cell_type": "code",
   "execution_count": 8,
   "metadata": {},
   "outputs": [],
   "source": [
    "yolo_person_detection_frame_ids = \\\n",
    "    Frame.objects.filter(video__path='videos/jackson-town-square.mp4',\n",
    "                         boundingbox__source__name='Viscloud YOLOv2 416',\n",
    "                         boundingbox__category__name='person',\n",
    "                         boundingbox__confidence__gte='0.6').order_by('number').values_list('number', flat=True)\n",
    "yolo_person_detection_frame_ids = list(yolo_person_detection_frame_ids)"
   ]
  },
  {
   "cell_type": "code",
   "execution_count": 9,
   "metadata": {},
   "outputs": [],
   "source": [
    "frame_set = set(present_labeled_frame_ids)\n",
    "yolo_person_not_in_our_label_set = \\\n",
    "    [i for i in yolo_person_detection_frame_ids if i not in frame_set]"
   ]
  },
  {
   "cell_type": "code",
   "execution_count": 13,
   "metadata": {},
   "outputs": [],
   "source": [
    "output_path = 'scanner_videos/jackson-yolo-person-detections-not-in-hand-labels.mp4'\n",
    "gather_frames_into_video(yolo_person_not_in_our_label_set, 'videos/jackson-town-square.mp4',\n",
    "                         output_path, load_video_from_scratch=False)"
   ]
  },
  {
   "cell_type": "code",
   "execution_count": 16,
   "metadata": {},
   "outputs": [
    {
     "data": {
      "text/html": [
       "\n",
       "    <video width=\"320\" height=\"240\" controls>\n",
       "        <source src=\"./scanner_videos/jackson-yolo-person-detections-not-in-hand-labels.mp4\" type=\"video/mp4\">\n",
       "    </video>"
      ],
      "text/plain": [
       "<IPython.core.display.HTML object>"
      ]
     },
     "execution_count": 16,
     "metadata": {},
     "output_type": "execute_result"
    }
   ],
   "source": [
    "view_video(output_path)"
   ]
  },
  {
   "cell_type": "code",
   "execution_count": 13,
   "metadata": {},
   "outputs": [],
   "source": [
    "person_frames = Frame.objects.filter(video__path='videos/new_jh_1.mp4',\n",
    "                                     boundingbox__category__name='person',\n",
    "                                     boundingbox__confidence__gte=0.7).distinct().order_by('number').values_list('number', flat=True)\n",
    "person_frames = list(person_frames)"
   ]
  },
  {
   "cell_type": "code",
   "execution_count": 15,
   "metadata": {},
   "outputs": [],
   "source": [
    "with open('person_frames.txt', 'w') as f:\n",
    "    f.write(','.join([str(i) for i in person_frames]))"
   ]
  },
  {
   "cell_type": "code",
   "execution_count": 16,
   "metadata": {},
   "outputs": [
    {
     "data": {
      "text/html": [
       "\n",
       "    <video width=\"320\" height=\"240\" controls>\n",
       "        <source src=\"./scanner_videos/jh_1_person_conf_gte_0_7.mp4\" type=\"video/mp4\">\n",
       "    </video>"
      ],
      "text/plain": [
       "<IPython.core.display.HTML object>"
      ]
     },
     "execution_count": 16,
     "metadata": {},
     "output_type": "execute_result"
    }
   ],
   "source": [
    "view_video('scanner_videos/jh_1_person_conf_gte_0_7.mp4')"
   ]
  },
  {
   "cell_type": "code",
   "execution_count": 17,
   "metadata": {},
   "outputs": [],
   "source": [
    "bike_frames = Frame.objects.filter(video__path='videos/new_jh_1.mp4',\n",
    "                                   boundingbox__category__name='bicycle',\n",
    "                                   boundingbox__confidence__gte=0.5).distinct().order_by('number').values_list('number', flat=True)\n",
    "bike_frames = list(bike_frames)"
   ]
  },
  {
   "cell_type": "code",
   "execution_count": 19,
   "metadata": {},
   "outputs": [],
   "source": [
    "with open('bike_frames.txt', 'w') as f:\n",
    "    f.write(','.join([str(i) for i in bike_frames]))"
   ]
  },
  {
   "cell_type": "code",
   "execution_count": 20,
   "metadata": {},
   "outputs": [
    {
     "data": {
      "text/html": [
       "\n",
       "    <video width=\"320\" height=\"240\" controls>\n",
       "        <source src=\"./scanner_videos/jh_1_bicycle_conf_gte_0_5.mp4\" type=\"video/mp4\">\n",
       "    </video>"
      ],
      "text/plain": [
       "<IPython.core.display.HTML object>"
      ]
     },
     "execution_count": 20,
     "metadata": {},
     "output_type": "execute_result"
    }
   ],
   "source": [
    "view_video('scanner_videos/jh_1_bicycle_conf_gte_0_5.mp4')"
   ]
  },
  {
   "cell_type": "code",
   "execution_count": null,
   "metadata": {},
   "outputs": [],
   "source": []
  }
 ],
 "metadata": {
  "kernelspec": {
   "display_name": "Django Shell-Plus",
   "language": "python",
   "name": "django_extensions"
  },
  "language_info": {
   "codemirror_mode": {
    "name": "ipython",
    "version": 2
   },
   "file_extension": ".py",
   "mimetype": "text/x-python",
   "name": "python",
   "nbconvert_exporter": "python",
   "pygments_lexer": "ipython2",
   "version": "2.7.14"
  }
 },
 "nbformat": 4,
 "nbformat_minor": 2
}
